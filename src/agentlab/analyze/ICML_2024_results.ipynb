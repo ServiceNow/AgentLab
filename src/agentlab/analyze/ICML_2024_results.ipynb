{
 "cells": [
  {
   "cell_type": "code",
   "execution_count": null,
   "metadata": {},
   "outputs": [],
   "source": [
    "from agentlab.experiments.exp_utils import  RESULTS_DIR\n",
    "from agentlab.analyze import inspect_results\n",
    "from agentlab.analyze import ICML_2024_results\n",
    "from pathlib import Path\n",
    "import pandas as pd\n",
    "RESULTS_DIR = Path(\"/mnt/colab_public/ui_copilot/ICML_2024/results\")\n",
    "\n",
    "%load_ext autoreload\n",
    "%autoreload 2"
   ]
  },
  {
   "cell_type": "markdown",
   "metadata": {},
   "source": [
    "## ablation study miniwob"
   ]
  },
  {
   "cell_type": "code",
   "execution_count": null,
   "metadata": {},
   "outputs": [],
   "source": [
    "RESULTS_DIR = Path(\"/mnt/colab_public/ui_copilot/ICML_2024/results\")\n",
    "result_dir = RESULTS_DIR / \"2024-02-01_03-24-01_ablation_study_browsergym_miniwob\"\n",
    "result_df = inspect_results.load_result_df(result_dir, set_index=False)\n",
    "miniwob_dict = inspect_results.split_by_key(result_df, key=\"agent_args.chat_model_args.model_name\")"
   ]
  },
  {
   "cell_type": "code",
   "execution_count": null,
   "metadata": {},
   "outputs": [],
   "source": [
    "for model_name, result_df in miniwob_dict.items():\n",
    "    print(model_name)\n",
    "    report = inspect_results.global_report(result_df, reduce_fn=inspect_results.summarize)\n",
    "    for idx in report.index:\n",
    "        print(idx)\n",
    "    inspect_results.display_report(report)\n",
    "    print(report.index[0])"
   ]
  },
  {
   "cell_type": "code",
   "execution_count": null,
   "metadata": {},
   "outputs": [],
   "source": [
    "ICML_2024_results.make_joint_ablation_study(miniwob_dict)"
   ]
  },
  {
   "cell_type": "markdown",
   "metadata": {},
   "source": [
    "### OSS Models"
   ]
  },
  {
   "cell_type": "code",
   "execution_count": null,
   "metadata": {},
   "outputs": [],
   "source": [
    "RESULTS_DIR = Path(\"/mnt/colab_public/ui_copilot/ICML_massimo\")\n",
    "\n",
    "\n",
    "result_df_list = []\n",
    "for exp_name in (\"2024-01-31_01-03-54_miniwob_random_search_prompt_OSS_LLMs\", \"2024-01-31_20-11-57_miniwob_random_search_prompt_OSS_LLMs\"):\n",
    "    result_dir = RESULTS_DIR / exp_name\n",
    "    result_df = inspect_results.load_result_df(result_dir, set_index=False)\n",
    "    result_df_list.append(result_df)\n",
    "\n",
    "# concat the dataframes\n",
    "result_df = pd.concat(result_df_list, ignore_index=True)"
   ]
  },
  {
   "cell_type": "code",
   "execution_count": null,
   "metadata": {},
   "outputs": [],
   "source": [
    "\n",
    "inspect_results.set_index_from_variables(result_df, index_black_list=(\"*args.ace\", \"*workspace\", \"*tokens\", \"*url\"))\n",
    "miniwob_dict[\"CodeLlama\"] = result_df\n",
    "report = inspect_results.global_report(result_df, reduce_fn=inspect_results.summarize)\n",
    "inspect_results.display_report(report)\n",
    "print(report.index[1])"
   ]
  },
  {
   "cell_type": "code",
   "execution_count": null,
   "metadata": {},
   "outputs": [],
   "source": [
    "for key, df in miniwob_dict.items():\n",
    "    miniwob_dict[key] = ICML_2024_results.add_web_gum_subset(df)"
   ]
  },
  {
   "cell_type": "code",
   "execution_count": null,
   "metadata": {},
   "outputs": [],
   "source": [
    "agent_dict = {\"CodeLlama\": (True, False, False, False, True, True, True, False, False, False, 'python', True, False),\n",
    "              \"openai/gpt-4-1106-preview\": (True, True, True, 'bid+coord', False, 'box'),\n",
    "              \"openai/gpt-3.5-turbo-1106\": (True, True, True, 'bid', False, 'center')}\n",
    "report = ICML_2024_results.make_joint_report(miniwob_dict, agent_dict, use_category=True)\n",
    "report"
   ]
  },
  {
   "cell_type": "markdown",
   "metadata": {},
   "source": [
    "## ablation study workarena"
   ]
  },
  {
   "cell_type": "code",
   "execution_count": null,
   "metadata": {},
   "outputs": [],
   "source": [
    "RESULTS_DIR = Path(\"/mnt/colab_public/ui_copilot/ICML_2024/results\")\n",
    "\n",
    "result_dir = RESULTS_DIR / \"2024-02-01_03-20-14_ablation_study_browsergym_workarena\"\n",
    "result_df = inspect_results.load_result_df(result_dir, set_index=False)\n",
    "workarena_dict = inspect_results.split_by_key(result_df, key=\"agent_args.chat_model_args.model_name\")"
   ]
  },
  {
   "cell_type": "code",
   "execution_count": null,
   "metadata": {},
   "outputs": [],
   "source": [
    "\n",
    "ICML_2024_results.make_joint_ablation_study(workarena_dict)"
   ]
  },
  {
   "cell_type": "code",
   "execution_count": null,
   "metadata": {},
   "outputs": [],
   "source": [
    "for model_name, result_df in workarena_dict.items():\n",
    "    print(model_name)\n",
    "\n",
    "    report = inspect_results.global_report(result_df, reduce_fn=inspect_results.summarize)\n",
    "    for idx in report.index:\n",
    "        print(idx)\n",
    "    inspect_results.display_report(report)\n",
    "    "
   ]
  },
  {
   "cell_type": "code",
   "execution_count": null,
   "metadata": {},
   "outputs": [],
   "source": [
    "agent_dict = {\n",
    "    \"openai/gpt-4-1106-preview\": (True, False, 'bid', False, 'False'),\n",
    "    \"openai/gpt-3.5-turbo-1106\": (True, True, 'bid', False, 'False'),\n",
    "}\n",
    "ICML_2024_results.make_joint_report(workarena_dict, agent_dict)"
   ]
  },
  {
   "cell_type": "markdown",
   "metadata": {},
   "source": [
    "## Ablation Study WebArena\n"
   ]
  },
  {
   "cell_type": "code",
   "execution_count": null,
   "metadata": {},
   "outputs": [],
   "source": [
    "RESULTS_DIR = Path(\"/mnt/colab_public/ui_copilot/ICML_2024_rebutal\")\n",
    "result_dir = RESULTS_DIR / \"2024-03-20_14-02-09_maxime_gpt4_webarena\"\n",
    "print(result_dir)\n",
    "result_df = inspect_results.load_result_df(result_dir, set_index=False)\n",
    "webarena_dict = inspect_results.split_by_key(result_df, key=\"agent_args.chat_model_args.model_name\")"
   ]
  },
  {
   "cell_type": "code",
   "execution_count": null,
   "metadata": {},
   "outputs": [],
   "source": [
    "for model_name, result_df in webarena_dict.items():\n",
    "    print(model_name)\n",
    "    report = inspect_results.global_report(result_df, reduce_fn=inspect_results.summarize)\n",
    "    for idx in report.index:\n",
    "        print(idx)\n",
    "    inspect_results.display_report(report)\n",
    "    print(report.index[0])"
   ]
  },
  {
   "cell_type": "code",
   "execution_count": null,
   "metadata": {},
   "outputs": [],
   "source": [
    "import pandas as pd\n",
    "pd.options.display.float_format = '{:,.2f}'.format\n",
    "reduce = False\n",
    "\n",
    "info = {\n",
    "    \"miniwob\": (\n",
    "        miniwob_dict[\"openai/gpt-4-1106-preview\"],\n",
    "        (False, False, False, 'bid', False, 'False'),\n",
    "        (True, True, True, 'bid+coord', True, 'box'),\n",
    "    ),\n",
    "    \"workarena\": (\n",
    "        workarena_dict[\"openai/gpt-4-1106-preview\"],\n",
    "        (True, False, \"bid\", False, \"False\"),\n",
    "        (True, True, \"bid+coord\", True, \"box\"),\n",
    "    ),\n",
    "    # \"workarena\": (\n",
    "    #     workarena_dict[\"openai/gpt-4-1106-preview\"],\n",
    "    #     \"GenericAgent\",\n",
    "    #     \"GenericAgent\",\n",
    "    # ),\n",
    "    \"webarena\": (\n",
    "        webarena_dict[\"openai/gpt-4-0125-preview\"],\n",
    "        \"GenericAgent\",\n",
    "        \"GenericAgent\",\n",
    "    ),\n",
    "}\n",
    "reports = []\n",
    "\n",
    "for benchmark, (df, base_agent, full_agent) in info.items():\n",
    "    # remove miniwob.stock-market\n",
    "    if benchmark == \"miniwob\":\n",
    "        # remove stock-market, but using the task_name in the index\n",
    "        df = df[df.index.get_level_values(\"task_name\") != \"miniwob.stock-market\"]\n",
    "        # df = df[df[\"task_name\"] != \"miniwob.stock-market\"]\n",
    "\n",
    "    for i, agent in enumerate((base_agent, full_agent)):\n",
    "        df_agent = ICML_2024_results.select_single_agent(df, agent)\n",
    "        if benchmark == \"workarena\":\n",
    "            df_agent = ICML_2024_results.set_task_category_as_index(df_agent)\n",
    "        # df_agent = ICML_2024_results.set_task_category_as_index(df_agent)\n",
    "        if reduce:\n",
    "            report = inspect_results.global_report(df_agent, reduce_fn=ICML_2024_results.paper_stats)\n",
    "            # if benchmark == \"miniwob\" or benchmark == \"webarena\":\n",
    "            report = report[report.index == \"[ALL TASKS]\"]\n",
    "        else:\n",
    "            report = df_agent\n",
    "        report[\"agent\"] = [\"base_agent\", \"full_agent\"][i]\n",
    "        report[\"benchmark\"] = benchmark\n",
    "        \n",
    "        reports.append(report)\n",
    "report = pd.concat(reports)\n",
    "\n",
    "\n",
    "# report.set_index(\"benchmark\", inplace=True)\n",
    "report = report[report.agent==\"base_agent\"]\n",
    "\n",
    "# save the report to a file\n",
    "report.to_csv(Path.home()/\"token_stats_report.csv\")\n",
    "\n",
    "report"
   ]
  },
  {
   "cell_type": "code",
   "execution_count": null,
   "metadata": {},
   "outputs": [],
   "source": [
    "import seaborn as sns\n",
    "import matplotlib.pyplot as plt\n",
    "box_plot = False\n",
    "\n",
    "# Set the fancy theme\n",
    "# sns.set_theme(style=\"whitegrid\")\n",
    "sns.set_style(\"darkgrid\")\n",
    "\n",
    "df = report.rename_axis('new_index').reset_index(inplace=False)\n",
    "\n",
    "df_melted = pd.melt(df, id_vars=['benchmark'], \n",
    "                    value_vars=['stats.max_token_pruned_html', 'stats.max_token_axtree_txt'],\n",
    "                    var_name='Tokens', value_name='max tokens per episode')\n",
    "\n",
    "plt.figure(figsize=(10, 6))  \n",
    "plt.yscale('log')\n",
    "if box_plot:\n",
    "    sns.boxplot(data=df_melted, x='Tokens', y='max tokens per episode', hue='benchmark')\n",
    "else:\n",
    "    filtered_df = df_agent[df_agent[\"agent\"] == \"base_agent\"]\n",
    "    sns.violinplot(data=df_melted, x='Tokens', y='max tokens per episode', hue='benchmark', split=False)\n",
    "\n",
    "\n",
    "plt.legend( loc='upper center', bbox_to_anchor=(0.5, 1.1), ncol=len(df_melted['benchmark'].unique()))\n",
    "\n",
    "plt.xlabel('')\n",
    "plt.show()\n",
    "\n"
   ]
  },
  {
   "cell_type": "code",
   "execution_count": null,
   "metadata": {},
   "outputs": [],
   "source": [
    "# hide a subset of experiments based on a filter\n",
    "################################################\n",
    "\n",
    "from agentlab.experiments.exp_utils import hide_some_exp, ExpResult\n",
    "\n",
    "# def filter(exp: ExpResult):\n",
    "#     model_name = exp.exp_args.agent_args.chat_model_args.model_name\n",
    "#     return \"vision\" in model_name\n",
    "\n",
    "def filter(exp: ExpResult):\n",
    "    flags = exp.exp_args.agent_args.flags\n",
    "    return flags.action_space == \"coord\" or flags.action_space == \"python\"\n",
    "\n",
    "result_dir = RESULTS_DIR / \"2024-01-30_23-00-34_ablation_study_browsergym\"\n",
    "\n",
    "filtered_out = hide_some_exp(result_dir, filter, just_test=True)\n",
    "len(filtered_out)"
   ]
  },
  {
   "cell_type": "markdown",
   "metadata": {},
   "source": [
    "## Action Count"
   ]
  },
  {
   "cell_type": "code",
   "execution_count": null,
   "metadata": {},
   "outputs": [],
   "source": [
    "RESULTS_DIR = Path(\"/mnt/colab_public/ui_copilot/ICML_2024_rebutal\")\n",
    "result_dir = RESULTS_DIR / \"2024-03-20_14-02-09_maxime_gpt4_webarena\"\n",
    "\n",
    "action_count_webarena = ICML_2024_results.get_all_action_count(result_dir)\n",
    "action_count_webarena.n_actions.hist(bins=100)"
   ]
  },
  {
   "cell_type": "code",
   "execution_count": null,
   "metadata": {},
   "outputs": [],
   "source": []
  },
  {
   "cell_type": "code",
   "execution_count": null,
   "metadata": {},
   "outputs": [],
   "source": [
    "RESULTS_DIR = Path(\"/mnt/colab_public/agentlab/ICML_2024/results\")\n",
    "result_dir = RESULTS_DIR / \"2024-02-01_03-20-14_ablation_study_browsergym_workarena\"\n",
    "\n",
    "action_count_workarena = ICML_2024_results.get_all_action_count(result_dir)\n",
    "action_count_workarena.n_actions.hist(bins=100)"
   ]
  },
  {
   "cell_type": "code",
   "execution_count": null,
   "metadata": {},
   "outputs": [],
   "source": [
    "\n",
    "def n_action_stats(df, group_by=\"task_name\"):\n",
    "\n",
    "    def percentile_95(x):\n",
    "        return x.quantile(0.95)\n",
    "\n",
    "    if group_by is not None:\n",
    "        df = df.groupby('task_name')\n",
    "\n",
    "    return df.agg({'n_actions': ['min', 'max', 'mean', 'median', percentile_95]})\n",
    "\n",
    "\n",
    "n_action_stats(action_count_workarena)"
   ]
  },
  {
   "cell_type": "code",
   "execution_count": null,
   "metadata": {},
   "outputs": [],
   "source": [
    "print(\"WorkArena Action count stats\")\n",
    "display(n_action_stats(action_count_workarena, group_by=None))\n",
    "print(\"WebArena Action count stats\")\n",
    "display(n_action_stats(action_count_webarena, group_by=None))"
   ]
  }
 ],
 "metadata": {
  "kernelspec": {
   "display_name": "ui-copilot",
   "language": "python",
   "name": "python3"
  },
  "language_info": {
   "codemirror_mode": {
    "name": "ipython",
    "version": 3
   },
   "file_extension": ".py",
   "mimetype": "text/x-python",
   "name": "python",
   "nbconvert_exporter": "python",
   "pygments_lexer": "ipython3",
   "version": "3.12.2"
  }
 },
 "nbformat": 4,
 "nbformat_minor": 2
}
