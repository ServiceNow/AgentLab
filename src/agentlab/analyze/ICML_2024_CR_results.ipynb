{
 "cells": [
  {
   "cell_type": "code",
   "execution_count": null,
   "metadata": {},
   "outputs": [],
   "source": [
    "from agentlab.experiments.exp_utils import  RESULTS_DIR\n",
    "from agentlab.analyze import inspect_results\n",
    "from agentlab.analyze.inspect_results import load_result_df, global_report, split_by_key\n",
    "from agentlab.analyze import ICML_2024_results\n",
    "import pandas as pd\n",
    "\n",
    "\n",
    "%load_ext autoreload\n",
    "%autoreload 2"
   ]
  },
  {
   "cell_type": "markdown",
   "metadata": {},
   "source": [
    "### Main table L1"
   ]
  },
  {
   "cell_type": "code",
   "execution_count": null,
   "metadata": {},
   "outputs": [],
   "source": [
    "result_dir_l1 = RESULTS_DIR / \"2024-06-01_18-45-03_final_run\"\n",
    "result_df_l1 = load_result_df(result_dir_l1, set_index=False)\n",
    "l1_dict = split_by_key(result_df_l1, key=\"agent_args.chat_model_args.model_name\", force_at_leaste_one_variable=False)\n",
    "l1_sub_dict = split_by_key(l1_dict['openai/gpt-4o-2024-05-13'], key=\"agent_args.flags.obs.use_screenshot\", force_at_leaste_one_variable=False)\n",
    "l1_dict = {\"agent_gpt-3.5\": l1_dict['openai/gpt-3.5-turbo-1106'],\n",
    "           \"agent_gpt-4o\": l1_sub_dict[False], \n",
    "           \"agent_gpt-4o_vision\": l1_sub_dict[True]}\n",
    "l1_dict[\"agent_llama3\"] =  load_result_df(RESULTS_DIR / \"2024-06-03_13-53-50_final_run_workarena_L1_llama3-70b\", set_index=False)\n",
    "l1_dict[\"mixtral\"] =  load_result_df(RESULTS_DIR / \"2024-06-05_02-44-33_final_run_MIXTRAL_L1\", set_index=False)\n",
    "\n",
    "\n",
    "for key, sub_df in l1_dict.items():\n",
    "    display(f\"{key}\")\n",
    "    sub_df = inspect_results.set_task_category_as_index(sub_df)\n",
    "    report = inspect_results.global_report(sub_df)\n",
    "    inspect_results.display_report(report)"
   ]
  },
  {
   "cell_type": "markdown",
   "metadata": {},
   "source": [
    "### Main Table Miniwob"
   ]
  },
  {
   "cell_type": "code",
   "execution_count": null,
   "metadata": {},
   "outputs": [],
   "source": [
    "result_dir_mwob = [RESULTS_DIR / \"2024-06-02_18-16-17_final_run\", \n",
    "                   RESULTS_DIR / \"2024-06-03_12-28-51_final_run_miniwob_llama3-70b\",\n",
    "                   ]\n",
    "result_df_mwob = load_result_df(result_dir_mwob, set_index=True)\n",
    "result_df_mwob = ICML_2024_results.add_web_gum_subset(result_df_mwob)\n",
    "\n",
    "mwob_dict = split_by_key(result_df_mwob, key=\"agent_args.agent_name\", force_at_leaste_one_variable=False)\n",
    "mwob_dict[\"mixtral\"] = ICML_2024_results.add_web_gum_subset(\n",
    "    load_result_df(RESULTS_DIR / \"2024-06-05_01-36-41_final_run_MIXTRAL_miniwob\"))\n",
    "\n",
    "for key, sub_df in mwob_dict.items():\n",
    "    display(f\"{key}\")\n",
    "    sub_df = inspect_results.set_task_category_as_index(sub_df)\n",
    "    report = inspect_results.global_report(sub_df)\n",
    "    inspect_results.display_report(report)"
   ]
  },
  {
   "cell_type": "code",
   "execution_count": null,
   "metadata": {},
   "outputs": [],
   "source": [
    "# Main Table WebArena\n",
    "webarena_dict = {\n",
    "    \"agent_gpt-3.5\": load_result_df(RESULTS_DIR / \"2024-05-31_17-25-45_final_run_webarena_gpt3.5\"),\n",
    "    \"agent_gpt-4o\": load_result_df(RESULTS_DIR / \"2024-06-01_12-51-34_final_run_webarena_gpt4o-vision\"),\n",
    "    \"agent_gpt-4o_vision\": load_result_df(RESULTS_DIR / \"2024-06-02_02-11-07_final_run_webarena_gpt-4o\"),\n",
    "    \"agent_llama3\": load_result_df(RESULTS_DIR / \"2024-06-02_03-30-37_generic_agent_eval_llm_webarena_llama3_8K\")\n",
    "}\n",
    "\n",
    "for key, sub_df in webarena_dict.items():\n",
    "    display(f\"{key}\")\n",
    "    sub_df = inspect_results.set_task_category_as_index(sub_df)\n",
    "    report = inspect_results.global_report(sub_df)\n",
    "    inspect_results.display_report(report)"
   ]
  },
  {
   "cell_type": "code",
   "execution_count": null,
   "metadata": {},
   "outputs": [],
   "source": [
    "display(ICML_2024_results.make_joint_report(l1_dict))\n",
    "display(ICML_2024_results.make_joint_report(mwob_dict))\n",
    "display(ICML_2024_results.make_joint_report(webarena_dict))"
   ]
  },
  {
   "cell_type": "markdown",
   "metadata": {},
   "source": [
    "### ablation study"
   ]
  },
  {
   "cell_type": "code",
   "execution_count": null,
   "metadata": {},
   "outputs": [],
   "source": [
    "df_35 = {\n",
    "    \"miniwob\": load_result_df(RESULTS_DIR / \"2024-06-03_13-54-17_ablation_study_GPT_3_5\"),\n",
    "    \"workarena\": load_result_df(RESULTS_DIR / \"2024-06-03_14-07-17_ablation_study_GPT_3_5\"),\n",
    "}\n",
    "for key, sub_df in df_35.items():\n",
    "    display(f\"{key}\")\n",
    "    inspect_results.display_report(inspect_results.ablation_report(sub_df))\n",
    "\n",
    "display(ICML_2024_results.make_joint_ablation(df_35))\n"
   ]
  },
  {
   "cell_type": "code",
   "execution_count": null,
   "metadata": {},
   "outputs": [],
   "source": [
    "\n",
    "df_4o = {\n",
    "    \"miniwob\": load_result_df(RESULTS_DIR / \"2024-06-03_21-38-14_ablation_study_GPT_4\"),\n",
    "    \"workarena\": load_result_df(RESULTS_DIR / \"2024-06-03_18-00-58_ablation_study_GPT_4\"),\n",
    "}\n",
    "for key, sub_df in df_4o.items():\n",
    "    display(f\"{key}\")\n",
    "    inspect_results.display_report(inspect_results.ablation_report(sub_df))\n",
    "\n",
    "display(ICML_2024_results.make_joint_ablation(df_4o))"
   ]
  },
  {
   "cell_type": "code",
   "execution_count": null,
   "metadata": {},
   "outputs": [],
   "source": [
    "df_llama = {\n",
    "    \"miniwob\": load_result_df(RESULTS_DIR / \"2024-06-02_23-50-39_ablation_study_OSS_miniwob_llama3-70b\"),\n",
    "    \"workarena\": load_result_df(RESULTS_DIR / \"2024-06-03_14-24-54_ablation_study_OSS_workarena_L1_llama3-70b\"),\n",
    "}\n",
    "for key, sub_df in df_llama.items():\n",
    "    display(f\"{key}\")\n",
    "    inspect_results.display_report(inspect_results.ablation_report(sub_df))\n",
    "\n",
    "display(ICML_2024_results.make_joint_ablation(df_llama))"
   ]
  },
  {
   "cell_type": "markdown",
   "metadata": {},
   "source": [
    "### Neurips Main table"
   ]
  },
  {
   "cell_type": "code",
   "execution_count": null,
   "metadata": {},
   "outputs": [],
   "source": [
    "\n",
    "result_dir_l2 = [\n",
    "    RESULTS_DIR / \"2024-06-04_19-53-48_final_run\", \n",
    "    RESULTS_DIR / \"2024-06-04_09-24-02_final_run_L2_llama3-70b\",\n",
    "    # RESULTS_DIR / \"2024-06-05_01-34-29_final_run_MIXTRAL_L2\",\n",
    "    ]\n",
    "result_df_l2 = load_result_df(result_dir_l2)\n",
    "\n",
    "l2_dict = split_by_key(result_df_l2, key=\"agent_args.agent_name\", force_at_leaste_one_variable=False)\n",
    "l2_dict[\"mixtral\"] = load_result_df(RESULTS_DIR / \"2024-06-05_01-34-29_final_run_MIXTRAL_L2\", set_index=False)\n",
    "\n",
    "\n",
    "for key, sub_df in l2_dict.items():\n",
    "    display(f\"{key}\")\n",
    "    sub_df = inspect_results.set_task_category_as_index(sub_df)\n",
    "    inspect_results.display_report(inspect_results.global_report(sub_df))\n",
    "\n",
    "l2_report = ICML_2024_results.make_joint_report(l2_dict)\n",
    "l3_report = l2_report.copy()\n",
    "l3_report.loc[:, :] = 0\n",
    "\n",
    "# put the [ALL TASKS] row at the beginning\n",
    "l2_report = l2_report.reindex([\"[ALL TASKS]\"] + list(l2_report.index[:-1]))\n",
    "l3_report = l3_report.reindex([\"[ALL TASKS]\"] + list(l3_report.index[:-1]))\n",
    "\n",
    "l2_report = l2_report.rename(index={\"[ALL TASKS]\": \"[WorkArena L2]\"})\n",
    "l3_report = l3_report.rename(index={\"[ALL TASKS]\": \"[WorkArena L3]\"})\n",
    "\n",
    "\n",
    "display(l2_report)\n",
    "display(l3_report)"
   ]
  },
  {
   "cell_type": "code",
   "execution_count": null,
   "metadata": {},
   "outputs": [],
   "source": [
    "reports = dict(\n",
    "    l1 = ICML_2024_results.make_joint_report(l1_dict),\n",
    "    mwob = ICML_2024_results.make_joint_report(mwob_dict),\n",
    "    webarena = ICML_2024_results.make_joint_report(webarena_dict),\n",
    ")\n",
    "\n",
    "# extract only the \"[ALL TASKS]\" row and stich all rows \n",
    "other_report = pd.concat({k: v.loc[[\"[ALL TASKS]\"]] for k, v in reports.items()})\n",
    "\n",
    "# rename index\n",
    "other_report.index = other_report.index.droplevel(1)\n",
    "other_report = other_report.rename(index={\"l1\": \"[WorkArena L1]\", \"mwob\": \"[MiniWob]\", \"webarena\": \"[WebArena]\"})\n",
    "display(other_report)\n"
   ]
  },
  {
   "cell_type": "code",
   "execution_count": null,
   "metadata": {},
   "outputs": [],
   "source": [
    "main_report = pd.concat((l3_report, l2_report, other_report))\n",
    "display(main_report)"
   ]
  },
  {
   "cell_type": "code",
   "execution_count": null,
   "metadata": {},
   "outputs": [],
   "source": [
    "result_df_human = load_result_df(RESULTS_DIR / \"2024-06-05_00-21-43_final_run\")\n",
    "result_df_human_tmp = inspect_results.set_task_category_as_index(result_df_human)\n",
    "inspect_results.display_report(inspect_results.global_report(result_df_human_tmp))\n",
    "display(ICML_2024_results.make_joint_report({\"gpt-4o\": result_df_human}))        "
   ]
  },
  {
   "cell_type": "code",
   "execution_count": null,
   "metadata": {},
   "outputs": [],
   "source": []
  }
 ],
 "metadata": {
  "kernelspec": {
   "display_name": "ui-copilot",
   "language": "python",
   "name": "python3"
  },
  "language_info": {
   "codemirror_mode": {
    "name": "ipython",
    "version": 3
   },
   "file_extension": ".py",
   "mimetype": "text/x-python",
   "name": "python",
   "nbconvert_exporter": "python",
   "pygments_lexer": "ipython3",
   "version": "3.1.-1"
  }
 },
 "nbformat": 4,
 "nbformat_minor": 2
}
