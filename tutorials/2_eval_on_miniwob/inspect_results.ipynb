{
 "cells": [
  {
   "cell_type": "code",
   "execution_count": 57,
   "id": "58086537",
   "metadata": {},
   "outputs": [],
   "source": [
    "from agentlab.experiments.exp_utils import RESULTS_DIR\n",
    "from agentlab.analyze import inspect_results\n",
    "from agentlab.experiments.study import get_most_recent_study"
   ]
  },
  {
   "cell_type": "markdown",
   "id": "3603d2b7",
   "metadata": {},
   "source": [
    "### Load results\n",
    "find the most recent study and load all summary information in a result dataframe"
   ]
  },
  {
   "cell_type": "code",
   "execution_count": 58,
   "id": "50be19a9",
   "metadata": {},
   "outputs": [
    {
     "name": "stdout",
     "output_type": "stream",
     "text": [
      "/Users/alexandre.lacoste/agentlab_results/2025-08-11_13-45-19_genericagent-gpt-5-nano-2025-08-07-on-miniwob-task-name-enter\n"
     ]
    },
    {
     "name": "stderr",
     "output_type": "stream",
     "text": [
      "Searching experiments directories.: 100%|██████████| 35/35 [00:00<00:00, 30069.77it/s]\n",
      "Loading results: 100%|██████████| 35/35 [00:00<00:00, 92.25it/s]\n"
     ]
    }
   ],
   "source": [
    "# replace this by your desired directory if needed.\n",
    "result_dir = get_most_recent_study(RESULTS_DIR, contains=None)\n",
    "\n",
    "print(result_dir)\n",
    "result_df = inspect_results.load_result_df(result_dir)"
   ]
  },
  {
   "cell_type": "code",
   "execution_count": 59,
   "id": "a424c470",
   "metadata": {},
   "outputs": [
    {
     "name": "stdout",
     "output_type": "stream",
     "text": [
      "Found multiple configuration, averaging across tasks and returning a per-agent report.\n"
     ]
    },
    {
     "data": {
      "text/html": [
       "<style type=\"text/css\">\n",
       "#T_271a5 th {\n",
       "  white-space: pre-wrap;\n",
       "}\n",
       "</style>\n",
       "<table id=\"T_271a5\">\n",
       "  <thead>\n",
       "    <tr>\n",
       "      <th class=\"blank level0\" >&nbsp;</th>\n",
       "      <th id=\"T_271a5_level0_col0\" class=\"col_heading level0 col0\" >agent.agent\n",
       "name</th>\n",
       "      <th id=\"T_271a5_level0_col1\" class=\"col_heading level0 col1\" >env.benchmark</th>\n",
       "      <th id=\"T_271a5_level0_col2\" class=\"col_heading level0 col2\" >avg\n",
       "reward</th>\n",
       "      <th id=\"T_271a5_level0_col3\" class=\"col_heading level0 col3\" >std\n",
       "err</th>\n",
       "      <th id=\"T_271a5_level0_col4\" class=\"col_heading level0 col4\" >avg\n",
       "steps</th>\n",
       "      <th id=\"T_271a5_level0_col5\" class=\"col_heading level0 col5\" >n\n",
       "completed</th>\n",
       "      <th id=\"T_271a5_level0_col6\" class=\"col_heading level0 col6\" >n\n",
       "err</th>\n",
       "      <th id=\"T_271a5_level0_col7\" class=\"col_heading level0 col7\" >cum\n",
       "cost</th>\n",
       "    </tr>\n",
       "  </thead>\n",
       "  <tbody>\n",
       "    <tr>\n",
       "      <th id=\"T_271a5_level0_row0\" class=\"row_heading level0 row0\" >0</th>\n",
       "      <td id=\"T_271a5_row0_col0\" class=\"data row0 col0\" >GenericAgent-gpt-5-nano-2025-08-07</td>\n",
       "      <td id=\"T_271a5_row0_col1\" class=\"data row0 col1\" >miniwob</td>\n",
       "      <td id=\"T_271a5_row0_col2\" class=\"data row0 col2\" >0.886</td>\n",
       "      <td id=\"T_271a5_row0_col3\" class=\"data row0 col3\" >0.054</td>\n",
       "      <td id=\"T_271a5_row0_col4\" class=\"data row0 col4\" >2.429</td>\n",
       "      <td id=\"T_271a5_row0_col5\" class=\"data row0 col5\" >35/35</td>\n",
       "      <td id=\"T_271a5_row0_col6\" class=\"data row0 col6\" >0</td>\n",
       "      <td id=\"T_271a5_row0_col7\" class=\"data row0 col7\" >0</td>\n",
       "    </tr>\n",
       "  </tbody>\n",
       "</table>\n"
      ],
      "text/plain": [
       "<pandas.io.formats.style.Styler at 0x30b0dbb00>"
      ]
     },
     "metadata": {},
     "output_type": "display_data"
    }
   ],
   "source": [
    "report = inspect_results.global_report(result_df)\n",
    "inspect_results.display_report(report)"
   ]
  },
  {
   "cell_type": "markdown",
   "id": "385559d7",
   "metadata": {},
   "source": [
    "### Print error report if any"
   ]
  },
  {
   "cell_type": "code",
   "execution_count": 60,
   "id": "b3e8c85b",
   "metadata": {},
   "outputs": [
    {
     "data": {
      "text/plain": [
       "''"
      ]
     },
     "execution_count": 60,
     "metadata": {},
     "output_type": "execute_result"
    }
   ],
   "source": [
    "inspect_results.error_report(result_df, max_stack_trace=2, use_log=True)"
   ]
  },
  {
   "cell_type": "markdown",
   "id": "69129e55",
   "metadata": {},
   "source": [
    "### Load steps of one episode"
   ]
  },
  {
   "cell_type": "markdown",
   "id": "c8882af3",
   "metadata": {},
   "source": [
    "### Inspect the keys in the result dataframe"
   ]
  },
  {
   "cell_type": "code",
   "execution_count": null,
   "id": "3a9fe320",
   "metadata": {},
   "outputs": [],
   "source": [
    "for key in result_df.keys():\n",
    "    print(key)"
   ]
  },
  {
   "cell_type": "code",
   "execution_count": 61,
   "id": "d203ed50",
   "metadata": {},
   "outputs": [
    {
     "name": "stdout",
     "output_type": "stream",
     "text": [
      "action: click('14')\n",
      "reward: 0.0\n",
      "AXTree: RootWebArea 'Circle Center Task', focused\n",
      "\t[13] image '', clickable, visible\n",
      "\t[14] button 'Submit', clickable, visible\n",
      "screenshot type: <class 'numpy.ndarray'>\n"
     ]
    },
    {
     "data": {
      "image/jpeg": "[encoded data removed]",
      "image/png": "[encoded data removed]",
      "text/plain": [
       "<PIL.Image.Image image mode=RGB size=498x321>"
      ]
     },
     "metadata": {},
     "output_type": "display_data"
    }
   ],
   "source": [
    "from agentlab.experiments.loop import ExpResult\n",
    "\n",
    "# lazy loader for all the information of on experiment (1 agent on 1 task)\n",
    "result = ExpResult(result_df.iloc[0].exp_dir)\n",
    "\n",
    "episode = result.steps_info\n",
    "print(f\"action: {episode[1].action}\")\n",
    "print(f\"reward: {episode[1].reward}\")\n",
    "print(f\"AXTree: {episode[1].obs['axtree_txt'][:500]}\")\n",
    "\n",
    "# formatted as an array\n",
    "print(f\"screenshot type: {type(episode[1].obs['screenshot'])}\")\n",
    "\n",
    "# loading from png\n",
    "display(result.get_screenshot(1))"
   ]
  },
  {
   "cell_type": "markdown",
   "id": "469d0f6f",
   "metadata": {},
   "source": [
    "### list keys in the observations dict"
   ]
  },
  {
   "cell_type": "code",
   "execution_count": null,
   "id": "0024b925",
   "metadata": {},
   "outputs": [
    {
     "name": "stdout",
     "output_type": "stream",
     "text": [
      "Obs Keys:\n",
      "  chat_messages\n",
      "  goal\n",
      "  goal_object\n",
      "  open_pages_urls\n",
      "  open_pages_titles\n",
      "  active_page_index\n",
      "  url\n",
      "  dom_object\n",
      "  axtree_object\n",
      "  extra_element_properties\n",
      "  focused_element_bid\n",
      "  last_action\n",
      "  last_action_error\n",
      "  elapsed_time\n",
      "  dom_txt\n",
      "  axtree_txt\n",
      "  pruned_html\n",
      "  screenshot\n",
      "{\n",
      "  \"0\": {\n",
      "    \"visibility\": 1.0,\n",
      "    \"bbox\": [\n",
      "      0.0,\n",
      "      0.0,\n",
      "      498.0,\n",
      "      315.0\n",
      "    ],\n",
      "    \"clickable\": false,\n",
      "    \"set_of_marks\": false\n",
      "  },\n",
      "  \"1\": {\n",
      "    \"visibility\": 0.0,\n",
      "    \"bbox\": null,\n",
      "    \"clickable\": false,\n",
      "    \"set_of_marks\": false\n",
      "  },\n",
      "  \"2\": {\n",
      "    \"visibility\": 0.0,\n",
      "    \"bbox\": null,\n",
      "    \"clickable\": false,\n",
      "    \"set_of_marks\": false\n",
      "  },\n",
      "  \"3\": {\n",
      "    \"visibility\": 0.0,\n",
      "    \"bbox\": null,\n",
      "    \"clickable\": false,\n",
      "    \"set_of_marks\": false\n",
      "  },\n",
      "  \"4\": {\n",
      "    \"visibility\": 0.0,\n",
      "    \"bbox\": null,\n",
      "    \"clickable\": false,\n",
      "    \"set_of_marks\": false\n",
      "  },\n",
      "  \"5\": {\n",
      "    \"visibility\": 0.0,\n",
      "    \"bbox\": null,\n",
      "    \"clickable\": false,\n",
      "    \"set_of_marks\": false\n",
      "  },\n",
      "  \"6\": {\n",
      "    \"visibility\": 0.0,\n",
      "    \"bbox\": null,\n",
      "    \"clickable\": false,\n",
      "    \"set_of_marks\": false\n",
      "  },\n",
      "  \"7\": {\n",
      "    \"visibility\": 0.0,\n",
      "    \"bbox\": null,\n",
      "    \"clickable\": false,\n",
      "    \"set_of_marks\": false\n",
      "  },\n",
      "  \"8\": {\n",
      "    \"visibility\": 0.0,\n",
      "    \"bbox\": null,\n",
      "    \"clickable\": false,\n",
      "    \"set_of_marks\": false\n",
      "  },\n",
      "  \"9\": {\n",
      "    \"visibility\": 1.0,\n",
      "    \"bbox\": [\n",
      "      0.0,\n",
      "      0.0,\n",
      "      498.0,\n",
      "      315.0\n",
      "    ],\n",
      "    \"clickable\": false,\n",
      "    \"set_of_marks\": false\n",
      "  },\n",
      "  \"10\": {\n",
      "    \"visibility\": 1.0,\n",
      "    \"bbox\": [\n",
      "      0.0,\n",
      "      0.0,\n",
      "      240.0,\n",
      "      315.0\n",
      "    ],\n",
      "    \"clickable\": false,\n",
      "    \"set_of_marks\": false\n",
      "  },\n",
      "  \"11\": {\n",
      "    \"visibility\": 1.0,\n",
      "    \"bbox\": [\n",
      "      0.0,\n",
      "      0.0,\n",
      "      240.0,\n",
      "      75.0\n",
      "    ],\n",
      "    \"clickable\": false,\n",
      "    \"set_of_marks\": false\n",
      "  },\n",
      "  \"12\": {\n",
      "    \"visibility\": 1.0,\n",
      "    \"bbox\": [\n",
      "      0.0,\n",
      "      75.0,\n",
      "      246.0,\n",
      "      246.0\n",
      "    ],\n",
      "    \"clickable\": false,\n",
      "    \"set_of_marks\": false\n",
      "  },\n",
      "  \"13\": {\n",
      "    \"visibility\": 1.0,\n",
      "    \"bbox\": [\n",
      "      3.0,\n",
      "      78.0,\n",
      "      225.0,\n",
      "      195.0\n",
      "    ],\n",
      "    \"clickable\": true,\n",
      "    \"set_of_marks\": false\n",
      "  },\n",
      "  \"14\": {\n",
      "    \"visibility\": 1.0,\n",
      "    \"bbox\": [\n",
      "      45.0,\n",
      "      267.0,\n",
      "      143.25,\n",
      "      46.5\n",
      "    ],\n",
      "    \"clickable\": true,\n",
      "    \"set_of_marks\": true\n",
      "  }\n",
      "}\n"
     ]
    }
   ],
   "source": [
    "import json\n",
    "\n",
    "print(f\"Obs Keys:\\n  {'\\n  '.join(list(episode[1].obs.keys()))}\")"
   ]
  },
  {
   "cell_type": "code",
   "execution_count": null,
   "id": "ea120a68",
   "metadata": {},
   "outputs": [],
   "source": [
    "extra_properties = json.dumps(episode[1].obs[\"extra_element_properties\"], indent=2)\n",
    "print(extra_properties)"
   ]
  }
 ],
 "metadata": {
  "kernelspec": {
   "display_name": "AgentLab",
   "language": "python",
   "name": "python3"
  },
  "language_info": {
   "codemirror_mode": {
    "name": "ipython",
    "version": 3
   },
   "file_extension": ".py",
   "mimetype": "text/x-python",
   "name": "python",
   "nbconvert_exporter": "python",
   "pygments_lexer": "ipython3",
   "version": "3.12.7"
  }
 },
 "nbformat": 4,
 "nbformat_minor": 5
}
