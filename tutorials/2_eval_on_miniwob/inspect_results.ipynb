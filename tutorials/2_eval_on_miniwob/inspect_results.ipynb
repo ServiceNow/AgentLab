{
 "cells": [
  {
   "cell_type": "code",
   "execution_count": null,
   "id": "58086537",
   "metadata": {},
   "outputs": [],
   "source": [
    "from agentlab.experiments.exp_utils import RESULTS_DIR\n",
    "from agentlab.analyze import inspect_results\n",
    "from agentlab.experiments.study import get_most_recent_study"
   ]
  },
  {
   "cell_type": "markdown",
   "id": "3603d2b7",
   "metadata": {},
   "source": [
    "### Load results\n",
    "find the most recent study and load all summary information in a result dataframe.\n",
    "\n",
    "The summary information contains the configuration of the environment, and the agents and various statistics about the experiment. It doesn't contain the details about the episode such as DOM or AXTree for faster loading."
   ]
  },
  {
   "cell_type": "code",
   "execution_count": null,
   "id": "50be19a9",
   "metadata": {},
   "outputs": [],
   "source": [
    "# replace this by your desired directory if needed.\n",
    "result_dir = get_most_recent_study(RESULTS_DIR, contains=None)\n",
    "\n",
    "print(result_dir)\n",
    "result_df = inspect_results.load_result_df(result_dir)"
   ]
  },
  {
   "cell_type": "code",
   "execution_count": null,
   "id": "a424c470",
   "metadata": {},
   "outputs": [],
   "source": [
    "report = inspect_results.global_report(result_df)\n",
    "inspect_results.display_report(report)"
   ]
  },
  {
   "cell_type": "markdown",
   "id": "385559d7",
   "metadata": {},
   "source": [
    "### Print error report if any"
   ]
  },
  {
   "cell_type": "code",
   "execution_count": null,
   "id": "b3e8c85b",
   "metadata": {},
   "outputs": [],
   "source": [
    "inspect_results.error_report(result_df, max_stack_trace=2, use_log=True)"
   ]
  },
  {
   "cell_type": "markdown",
   "id": "d4d07197",
   "metadata": {},
   "source": [
    "### Loading an Episode"
   ]
  },
  {
   "cell_type": "code",
   "execution_count": null,
   "id": "d203ed50",
   "metadata": {},
   "outputs": [],
   "source": [
    "from agentlab.experiments.loop import ExpResult\n",
    "\n",
    "# lazy loader for all the information of on experiment (1 agent on 1 task)\n",
    "result = ExpResult(result_df.iloc[0].exp_dir)\n",
    "\n",
    "episode = result.steps_info\n",
    "print(f\"action: {episode[1].action}\")\n",
    "print(f\"reward: {episode[1].reward}\")\n",
    "print(f\"AXTree: {episode[1].obs['axtree_txt'][:500]}\")\n",
    "\n",
    "# formatted as an array\n",
    "print(f\"screenshot type: {type(episode[1].obs['screenshot'])}\")\n",
    "\n",
    "# loading from png\n",
    "display(result.get_screenshot(1))"
   ]
  },
  {
   "cell_type": "markdown",
   "id": "469d0f6f",
   "metadata": {},
   "source": [
    "### list keys in the observations dict"
   ]
  },
  {
   "cell_type": "code",
   "execution_count": null,
   "id": "0024b925",
   "metadata": {},
   "outputs": [],
   "source": [
    "import json\n",
    "\n",
    "print(f\"Obs Keys:\\n  {'\\n  '.join(list(episode[1].obs.keys()))}\")"
   ]
  },
  {
   "cell_type": "markdown",
   "id": "be6f5e6a",
   "metadata": {},
   "source": [
    "## extra_elements_properties\n",
    "contains a dictionnary for the bounding box and visible properties of each elements in the page"
   ]
  },
  {
   "cell_type": "code",
   "execution_count": null,
   "id": "ea120a68",
   "metadata": {},
   "outputs": [],
   "source": [
    "extra_properties = json.dumps(episode[1].obs[\"extra_element_properties\"], indent=2)\n",
    "print(extra_properties)"
   ]
  },
  {
   "cell_type": "code",
   "execution_count": null,
   "id": "a7761e10",
   "metadata": {},
   "outputs": [],
   "source": []
  }
 ],
 "metadata": {
  "kernelspec": {
   "display_name": "AgentLab",
   "language": "python",
   "name": "python3"
  },
  "language_info": {
   "codemirror_mode": {
    "name": "ipython",
    "version": 3
   },
   "file_extension": ".py",
   "mimetype": "text/x-python",
   "name": "python",
   "nbconvert_exporter": "python",
   "pygments_lexer": "ipython3",
   "version": "3.12.7"
  }
 },
 "nbformat": 4,
 "nbformat_minor": 5
}
