{
 "cells": [
  {
   "cell_type": "markdown",
   "id": "16d7d965",
   "metadata": {},
   "source": [
    "## Setup MiniWob (a minimal browser Benchmark)"
   ]
  },
  {
   "cell_type": "markdown",
   "id": "a33a7f16",
   "metadata": {},
   "source": [
    "1. Run the cells below to set up MiniWob in the Project directory"
   ]
  },
  {
   "cell_type": "code",
   "execution_count": 2,
   "id": "ac4246b6",
   "metadata": {},
   "outputs": [],
   "source": [
    "import pathlib\n",
    "import os\n",
    "\n",
    "if 'PROJECT_ROOT' not in globals():\n",
    "    # Check if we're in the right directory structure\n",
    "    current_dir = pathlib.Path().resolve()\n",
    "    PROJECT_ROOT = current_dir.parent.parent\n"
   ]
  },
  {
   "cell_type": "code",
   "execution_count": null,
   "id": "82853248",
   "metadata": {},
   "outputs": [],
   "source": [
    "# clone miniwob-plusplus\n",
    "!cd {PROJECT_ROOT} && git clone https://github.com/Farama-Foundation/miniwob-plusplus.git || true\n",
    "!cd {PROJECT_ROOT} && git -C miniwob-plusplus checkout 7fd85d71a4b60325c6585396ec4f48377d049838"
   ]
  },
  {
   "cell_type": "markdown",
   "id": "2192af6c",
   "metadata": {},
   "source": [
    "2. Export the **MINIWOB_URL** environment variable or save in `.env` file as follows"
   ]
  },
  {
   "cell_type": "code",
   "execution_count": null,
   "id": "4254a634",
   "metadata": {},
   "outputs": [],
   "source": [
    "env_path = pathlib.Path(PROJECT_ROOT) / '.env'\n",
    "miniwob_path = PROJECT_ROOT.joinpath(\"miniwob-plusplus\", \"miniwob\", \"html\", \"miniwob/\").as_uri() + os.sep\n",
    "print(miniwob_path)  # export miniwob_path"
   ]
  },
  {
   "cell_type": "code",
   "execution_count": null,
   "id": "07a61c74",
   "metadata": {},
   "outputs": [],
   "source": [
    "#or save in .env file to load automatically.\n",
    "!grep -q '^MINIWOB_URL=' {env_path} || echo \"MINIWOB_URL={miniwob_path}\" >> {env_path}"
   ]
  },
  {
   "cell_type": "markdown",
   "id": "8b4bfbd1",
   "metadata": {},
   "source": [
    "3. Next, we'll launch the experiments in this directory. "
   ]
  },
  {
   "cell_type": "code",
   "execution_count": null,
   "id": "4f1c310e",
   "metadata": {},
   "outputs": [],
   "source": [
    "# Run the following command in your shell to launch the experiment:\n",
    "f'uv run --directory {PROJECT_ROOT} {current_dir.joinpath(\"experiment.py\")}'\n"
   ]
  },
  {
   "cell_type": "markdown",
   "id": "e91e5375",
   "metadata": {},
   "source": [
    "4. We can use agentlab-xray to view the traces."
   ]
  },
  {
   "cell_type": "markdown",
   "id": "4a644285",
   "metadata": {},
   "source": [
    "Run this command in your shell to launch the agentlab-xray.\n",
    "> agentlab-xray"
   ]
  }
 ],
 "metadata": {
  "kernelspec": {
   "display_name": "agentlab",
   "language": "python",
   "name": "python3"
  },
  "language_info": {
   "codemirror_mode": {
    "name": "ipython",
    "version": 3
   },
   "file_extension": ".py",
   "mimetype": "text/x-python",
   "name": "python",
   "nbconvert_exporter": "python",
   "pygments_lexer": "ipython3",
   "version": "3.12.9"
  }
 },
 "nbformat": 4,
 "nbformat_minor": 5
}
